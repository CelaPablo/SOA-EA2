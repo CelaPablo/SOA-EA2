{
  "nbformat": 4,
  "nbformat_minor": 0,
  "metadata": {
    "colab": {
      "name": "Cela_Pablo_ejercicio_3.ipynb",
      "provenance": [],
      "authorship_tag": "ABX9TyMVtz4ff1/mF1EI7df1q+ZY",
      "include_colab_link": true
    },
    "kernelspec": {
      "name": "python3",
      "display_name": "Python 3"
    }
  },
  "cells": [
    {
      "cell_type": "markdown",
      "metadata": {
        "id": "view-in-github",
        "colab_type": "text"
      },
      "source": [
        "<a href=\"https://colab.research.google.com/github/CelaPablo/SOA-EA2/blob/master/HPC/Cela_Pablo_ejercicio_3.ipynb\" target=\"_parent\"><img src=\"https://colab.research.google.com/assets/colab-badge.svg\" alt=\"Open In Colab\"/></a>"
      ]
    },
    {
      "cell_type": "markdown",
      "metadata": {
        "id": "SA00eT7xU-WE"
      },
      "source": [
        "---\n",
        "# Introducción\n",
        "\n",
        "intro"
      ]
    },
    {
      "cell_type": "markdown",
      "metadata": {
        "id": "nuP1IEBhVIOJ"
      },
      "source": [
        "---\n",
        "# Armado del ambiente\n",
        "\n",
        "???"
      ]
    },
    {
      "cell_type": "code",
      "metadata": {
        "id": "K5c1zAqOUv7g"
      },
      "source": [
        "# Posible armado de ambiente"
      ],
      "execution_count": null,
      "outputs": []
    },
    {
      "cell_type": "markdown",
      "metadata": {
        "id": "h11sVcpIVL-b"
      },
      "source": [
        "---\n",
        "# Desarrollo\n",
        "\n",
        "???"
      ]
    },
    {
      "cell_type": "code",
      "metadata": {
        "id": "gelPgJ21-LIm"
      },
      "source": [
        "\n",
        "\n",
        "code = \"\"\"\n",
        "// OpenMP program to print Hello World \n",
        "// using C language \n",
        "  \n",
        "// OpenMP header \n",
        "#include <omp.h>   \n",
        "#include <stdio.h> \n",
        "#include <stdlib.h> \n",
        "  \n",
        "int main(int argc, char* argv[]) \n",
        "{ \n",
        "  \n",
        "    // Beginning of parallel region \n",
        "    #pragma omp parallel \n",
        "    { \n",
        "        int hilo = omp_get_thread_num();\n",
        "        printf(\"Hello World... from thread = %d\\\\n\", hilo); \n",
        "    } \n",
        "    // Ending of parallel region \n",
        "}\n",
        "\"\"\""
      ],
      "execution_count": 76,
      "outputs": []
    },
    {
      "cell_type": "code",
      "metadata": {
        "id": "q8IN6zT6-QPj"
      },
      "source": [
        "text_file = open(\"code.c\", \"w\")\n",
        "text_file.write(code)\n",
        "text_file.close()"
      ],
      "execution_count": 77,
      "outputs": []
    },
    {
      "cell_type": "code",
      "metadata": {
        "id": "X28aVo1r-R6d",
        "outputId": "c5842375-ea2f-449e-a9c8-5d2c51039eef",
        "colab": {
          "base_uri": "https://localhost:8080/"
        }
      },
      "source": [
        "%env OMP_NUM_THREADS=10"
      ],
      "execution_count": 78,
      "outputs": [
        {
          "output_type": "stream",
          "text": [
            "env: OMP_NUM_THREADS=10\n"
          ],
          "name": "stdout"
        }
      ]
    },
    {
      "cell_type": "code",
      "metadata": {
        "id": "V-J2nLnG-Tff"
      },
      "source": [
        "!gcc -o hello -fopenmp code.c"
      ],
      "execution_count": 79,
      "outputs": []
    },
    {
      "cell_type": "code",
      "metadata": {
        "id": "p4u0CZJT-VJf",
        "outputId": "8010a308-4fb2-43ea-d877-a42de65ad6c6",
        "colab": {
          "base_uri": "https://localhost:8080/"
        }
      },
      "source": [
        "!./hello"
      ],
      "execution_count": 80,
      "outputs": [
        {
          "output_type": "stream",
          "text": [
            "Hello World... from thread = 0\n",
            "Hello World... from thread = 1\n",
            "Hello World... from thread = 2\n",
            "Hello World... from thread = 3\n",
            "Hello World... from thread = 4\n",
            "Hello World... from thread = 5\n",
            "Hello World... from thread = 6\n",
            "Hello World... from thread = 7\n",
            "Hello World... from thread = 8\n",
            "Hello World... from thread = 9\n"
          ],
          "name": "stdout"
        }
      ]
    },
    {
      "cell_type": "code",
      "metadata": {
        "id": "KRj3lbILB6fW"
      },
      "source": [
        ""
      ],
      "execution_count": null,
      "outputs": []
    },
    {
      "cell_type": "markdown",
      "metadata": {
        "id": "zpXdIkvbVW_N"
      },
      "source": [
        "---\n",
        "# Tabla de pasos de ejecución del programa\n",
        "\n",
        "\n",
        " Procesador | Funciòn | Detalle\n",
        "------------|---------|----------\n",
        "\n",
        "\n",
        "\n",
        "\n",
        "No se si es necesario --\n"
      ]
    },
    {
      "cell_type": "markdown",
      "metadata": {
        "id": "ERE-ibrFVck4"
      },
      "source": [
        "---\n",
        "# Conclusión\n",
        "\n",
        "???"
      ]
    },
    {
      "cell_type": "markdown",
      "metadata": {
        "id": "Ybi-yxkMVgaX"
      },
      "source": [
        "---\n",
        "# Bibliografía\n",
        "\n",
        "???"
      ]
    }
  ]
}