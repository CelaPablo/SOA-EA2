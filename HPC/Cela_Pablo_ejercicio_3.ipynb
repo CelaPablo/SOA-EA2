{
  "nbformat": 4,
  "nbformat_minor": 0,
  "metadata": {
    "colab": {
      "name": "Cela_Pablo_ejercicio_3.ipynb",
      "provenance": [],
      "authorship_tag": "ABX9TyNxm+7WQAOWU+nuaJ/sDlPK",
      "include_colab_link": true
    },
    "kernelspec": {
      "name": "python3",
      "display_name": "Python 3"
    }
  },
  "cells": [
    {
      "cell_type": "markdown",
      "metadata": {
        "id": "view-in-github",
        "colab_type": "text"
      },
      "source": [
        "<a href=\"https://colab.research.google.com/github/CelaPablo/SOA-EA2/blob/master/HPC/Cela_Pablo_ejercicio_3.ipynb\" target=\"_parent\"><img src=\"https://colab.research.google.com/assets/colab-badge.svg\" alt=\"Open In Colab\"/></a>"
      ]
    },
    {
      "cell_type": "markdown",
      "metadata": {
        "id": "SA00eT7xU-WE"
      },
      "source": [
        "---\n",
        "# Introducción\n",
        "\n",
        "intro"
      ]
    },
    {
      "cell_type": "markdown",
      "metadata": {
        "id": "nuP1IEBhVIOJ"
      },
      "source": [
        "---\n",
        "# Armado del ambiente\n",
        "\n",
        "???"
      ]
    },
    {
      "cell_type": "code",
      "metadata": {
        "id": "K5c1zAqOUv7g"
      },
      "source": [
        "# Posible armado de ambiente"
      ],
      "execution_count": null,
      "outputs": []
    },
    {
      "cell_type": "markdown",
      "metadata": {
        "id": "h11sVcpIVL-b"
      },
      "source": [
        "---\n",
        "# Desarrollo\n",
        "\n",
        "???"
      ]
    },
    {
      "cell_type": "code",
      "metadata": {
        "id": "NHODodfuVOzR"
      },
      "source": [
        "# Codigo"
      ],
      "execution_count": null,
      "outputs": []
    },
    {
      "cell_type": "markdown",
      "metadata": {
        "id": "zpXdIkvbVW_N"
      },
      "source": [
        "---\n",
        "# Tabla de pasos de ejecución del programa\n",
        "\n",
        "\n",
        " Procesador | Funciòn | Detalle\n",
        "------------|---------|----------\n",
        "\n",
        "\n",
        "\n",
        "\n",
        "No se si es necesario --\n"
      ]
    },
    {
      "cell_type": "markdown",
      "metadata": {
        "id": "ERE-ibrFVck4"
      },
      "source": [
        "---\n",
        "# Conclusión\n",
        "\n",
        "???"
      ]
    },
    {
      "cell_type": "markdown",
      "metadata": {
        "id": "Ybi-yxkMVgaX"
      },
      "source": [
        "---\n",
        "# Bibliografía\n",
        "\n",
        "???"
      ]
    }
  ]
}