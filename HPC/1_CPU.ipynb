{
  "nbformat": 4,
  "nbformat_minor": 0,
  "metadata": {
    "colab": {
      "name": "Prueba 1 - Vectores - CPU.ipynb",
      "provenance": [],
      "private_outputs": true,
      "collapsed_sections": [
        "B4IHd-IqdvT1"
      ]
    },
    "kernelspec": {
      "display_name": "Python 3",
      "name": "python3"
    }
  },
  "cells": [
    {
      "cell_type": "markdown",
      "metadata": {
        "id": "KxbAgQ_ocVES"
      },
      "source": [
        "---\n",
        "# Introducción\n",
        "\n",
        "En física, la energía cinética de un cuerpo es aquella energía que posee debido a su movimiento. Se define como el trabajo necesario para acelerar un cuerpo de una masa determinada desde el reposo hasta la velocidad indicada. Una vez conseguida esta energía durante la aceleración, el cuerpo mantiene su energía cinética salvo que cambie su velocidad.[1]\n",
        "\n",
        "En el siguiente cuaderno se realizara el calculo de dicha energia para varios cuerpos, utiilzando el procesador CPU. Para ello se utilizara la formula:\n",
        "<br/>\n",
        " <center>Ec = 1/2 ( M * V^2)</center>\n",
        "<br/>\n",
        "Donde Ec es enegia cinetica, M es masa del cuerpo, y V es la velocidad.\n",
        "\n",
        "El objetivo es aprender las funciones basicas de Python[2, 3] la plataforma Colab [3, 5] y la programación secuencial."
      ]
    },
    {
      "cell_type": "markdown",
      "metadata": {
        "id": "M-bYqrOYL9hX"
      },
      "source": [
        "---\n",
        "# Armado del ambiente\n",
        "No son necesarias, ejecuciones previas del armado del ambiente."
      ]
    },
    {
      "cell_type": "markdown",
      "metadata": {
        "id": "NzQaWRTtc1Zj"
      },
      "source": [
        "---\n",
        "# Desarrollo\n"
      ]
    },
    {
      "cell_type": "code",
      "metadata": {
        "id": "9c7mZSnu0M3m"
      },
      "source": [
        "# ------------------------------------------------------------------------------\n",
        "#@title Parámetros de ejecución { vertical-output: true }\n",
        "cantObjetos = 10000 #@param {type:\"slider\", min:1000, max:10000, step:1}\n",
        "velocidadMaxima =   200#@param {type: \"integer\", min:0}\n",
        "# ------------------------------------------------------------------------------\n",
        "\n",
        "from datetime import datetime\n",
        "import numpy\n",
        "\n",
        "tiempo_total = datetime.now()\n",
        "\n",
        "# ------------------------------------------------------------------------------\n",
        "# Definición de función que transforma el tiempo en  milisegundos --------------\n",
        "tiempo_en_ms = lambda dt:(dt.days * 24 * 60 * 60 + dt.seconds) * 1000 + dt.microseconds / 1000.0\n",
        "# ------------------------------------------------------------------------------\n",
        "\n",
        "# Cota para la masa ------------------------------------------------------------\n",
        "masaMax = 100\n",
        "\n",
        "try:\n",
        "  if velocidadMaxima <= 0:\n",
        "    raise ValueError(\"La velocidad maxima debe ser mayor a 0.\");\n",
        "\n",
        "  masa_cpu = numpy.random.randint(1, masaMax, size=cantObjetos)\n",
        "  masa_cpu = masa_cpu.astype(numpy.int32())\n",
        "\n",
        "  velocidad_cpu = numpy.random.uniform(1, velocidadMaxima, size=cantObjetos)\n",
        "  velocidad_cpu = velocidad_cpu.astype(numpy.float32())\n",
        "\n",
        "  energia_cpu = numpy.empty_like(velocidad_cpu)\n",
        "\n",
        "  tiempo_bucle = datetime.now()\n",
        "\n",
        "  for idx in range(0, cantObjetos):\n",
        "    energia_cpu[idx] = 0.5 * (masa_cpu[idx] * pow(velocidad_cpu[idx], 2))\n",
        "\n",
        "  tiempo_bucle = datetime.now() - tiempo_bucle\n",
        "  tiempo_total = datetime.now() - tiempo_total\n",
        "\n",
        "  print( \"Cantidad de elementos: \", cantObjetos )\n",
        "  print(\"Tiempo bucle: \", tiempo_en_ms( tiempo_bucle ), \"[ms]\" )\n",
        "  print(\"Tiempo Total: \", tiempo_en_ms( tiempo_total ), \"[ms]\" )\n",
        "  \n",
        "except ValueError as valerr:\n",
        "  print (valerr)\n",
        "except: \n",
        "  print(\"Houston we have a problem!\")\n",
        "\n"
      ],
      "execution_count": null,
      "outputs": []
    },
    {
      "cell_type": "markdown",
      "metadata": {
        "id": "fwtyQB2tdJuG"
      },
      "source": [
        "---\n",
        "# Tabla de pasos\n",
        "Tabla de pasos de la ejecución del programa:\n",
        "\n",
        " Procesador | Función | Detalle\n",
        "------------|---------|----------\n",
        "CPU      |  @param cantObjetos    | Lectura de la cantidad de objetos a las cual se les aplicara el calculo.\n",
        "CPU      |  @param velocidadMaxima| Lectura de la cota superior de las velocidades.\n",
        "CPU      |  import                | Importa los módulos para funcionar.\n",
        "CPU      |  datetime.now()        | Toma el tiempo inicial.\n",
        "CPU      |  numpy.random.randint  | Inicializa el vector de las masas.\n",
        "CPU      |  numpy.random.uniform  | Inicializa el vector de las velocidades de las masas.\n",
        "CPU      |  numpy.empty_like      | Reservo un vector para almacenar los resultados.\n",
        "CPU      |  for...                | Realiza el calculo de la Energia cinetica para cada objeto.\n",
        "CPU      |  datetime.             | Calculo el tiempo que se tardo en calcular las energias.\n",
        "CPU      |  datetime.             | Calculo el tiempo final.\n",
        "CPU      |  print()               | Informe de los resultados.\n",
        "\n"
      ]
    },
    {
      "cell_type": "markdown",
      "metadata": {
        "id": "3PQxHPkDdo42"
      },
      "source": [
        "---\n",
        "# Conclusión\n",
        "\n",
        "Si bien el ejercicio realizado no presenta una gran complejidad, creo que fue necesario realizar algo simple para familiarizarme con el lenguaje de Python y como es el funcionamiento de los cuadernos de Colab; tanto para la declaración de funciones, como de variables y excepciones. Tambien me sirvio como puntapie para aprender sobre las distintas estructuras y funciones que ofrece Numpy[6]\n",
        "\n",
        "En cuanto a los resultado, si bien el calculo realizado no requiere de mucho calculo por parte de la CPU, al comparar los valores entre la ejecición en serie y la ejecución en paralelo se ve una \"ENORME\" diferencia.\n",
        "\n",
        "En promedio, con la ejecución en serie obtuve un resultado de 63.221 [ms] (tamando 10 ejecuciones con 10000 objetos). Por otra parte, con la ejecución en paralelo, el calculo de las diferentes energias se resolvió en un promedio de 0.089 [ms].\n"
      ]
    },
    {
      "cell_type": "markdown",
      "metadata": {
        "id": "B4IHd-IqdvT1"
      },
      "source": [
        "---\n",
        "# 6 Bibliografía\n",
        "\n",
        "[1] Energia Cinetica: [Wikipedia](https://es.wikipedia.org/wiki/Energ%C3%ADa_cin%C3%A9tica)\n",
        "\n",
        "[2] Introducción a Python: [Página Colab](https://github.com/wvaliente/SOA_HPC/blob/main/Documentos/Python_Basico.ipynb) \n",
        "\n",
        "[3] MARKDOWN SYNTAX Colab: [PDF](https://github.com/wvaliente/SOA_HPC/blob/main/Documentos/markdown-cheatsheet-online.pdf)\n",
        "\n",
        "[4] Biblioteca BLAS: [Referencia](http://www.netlib.org/blas/)\n",
        "\n",
        "[5] Tutorial Point Colab: [PDF](https://github.com/wvaliente/SOA_HPC/blob/main/Documentos/markdown-cheatsheet-online.pdf)\n",
        "\n",
        "[6] Numpy: [Referencia](https://numpy.org/doc/1.16/reference/routines.random.html)"
      ]
    }
  ]
}